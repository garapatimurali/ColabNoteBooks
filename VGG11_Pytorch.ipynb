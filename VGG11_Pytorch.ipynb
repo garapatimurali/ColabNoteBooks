{
  "nbformat": 4,
  "nbformat_minor": 0,
  "metadata": {
    "colab": {
      "name": "VGG11_Pytorch.ipynb",
      "provenance": [],
      "authorship_tag": "ABX9TyOx7P4Ba8eR8wcJXGw6E2ht",
      "include_colab_link": true
    },
    "kernelspec": {
      "name": "python3",
      "display_name": "Python 3"
    },
    "language_info": {
      "name": "python"
    },
    "accelerator": "GPU",
    "gpuClass": "standard"
  },
  "cells": [
    {
      "cell_type": "markdown",
      "metadata": {
        "id": "view-in-github",
        "colab_type": "text"
      },
      "source": [
        "<a href=\"https://colab.research.google.com/github/garapatimurali/ColabNoteBooks/blob/main/VGG11_Pytorch.ipynb\" target=\"_parent\"><img src=\"https://colab.research.google.com/assets/colab-badge.svg\" alt=\"Open In Colab\"/></a>"
      ]
    },
    {
      "cell_type": "code",
      "execution_count": 2,
      "metadata": {
        "id": "QRQioXSERBPb"
      },
      "outputs": [],
      "source": [
        "import torch.nn as nn\n",
        "import torch.nn.functional as F\n",
        "\n",
        "class VGG11_NET(nn.Module):\n",
        "    def __init__(self):\n",
        "        super(VGG11_NET, self).__init__()\n",
        "        self.conv1_1 = nn.Conv2d(in_channels=3, out_channels=64, kernel_size=3, padding=1)\n",
        "\n",
        "        self.conv2_1 = nn.Conv2d(in_channels=64, out_channels=128, kernel_size=3, padding=1)\n",
        "\n",
        "        self.conv3_1 = nn.Conv2d(in_channels=128, out_channels=256, kernel_size=3, padding=1)\n",
        "        self.conv3_2 = nn.Conv2d(in_channels=256, out_channels=256, kernel_size=3, padding=1)\n",
        "        self.conv3_3 = nn.Conv2d(in_channels=256, out_channels=256, kernel_size=3, padding=1)\n",
        "\n",
        "        self.conv4_1 = nn.Conv2d(in_channels=256, out_channels=512, kernel_size=3, padding=1)\n",
        "        self.conv4_2 = nn.Conv2d(in_channels=512, out_channels=512, kernel_size=3, padding=1)\n",
        "\n",
        "        self.conv5_1 = nn.Conv2d(in_channels=512, out_channels=512, kernel_size=3, padding=1)\n",
        "        self.conv5_2 = nn.Conv2d(in_channels=512, out_channels=512, kernel_size=3, padding=1)\n",
        "\n",
        "        self.maxpool = nn.MaxPool2d(kernel_size=2, stride=2)\n",
        "\n",
        "        self.fc1 = nn.Linear(in_features=25088, out_features=4096)\n",
        "        self.fc2 = nn.Linear(in_features=4096, out_features=4096)\n",
        "        self.fc3 = nn.Linear(in_features=4096, out_features=1000)\n",
        "\n",
        "    def forward(self, x):\n",
        "        x = F.relu(self.conv1_1(x))\n",
        "        x = self.maxpool(x)\n",
        "\n",
        "        x = F.relu(self.conv2_1(x))\n",
        "        x = self.maxpool(x)\n",
        "\n",
        "        x = F.relu(self.conv3_1(x))\n",
        "        x = F.relu(self.conv3_2(x))\n",
        "        x = self.maxpool(x)\n",
        "\n",
        "        x = F.relu(self.conv4_1(x))\n",
        "        x = F.relu(self.conv4_2(x))\n",
        "        x = self.maxpool(x)\n",
        "\n",
        "        x = F.relu(self.conv5_1(x))\n",
        "        x = F.relu(self.conv5_2(x))\n",
        "        x = self.maxpool(x)\n",
        "\n",
        "        x = x.reshape(x.shape[0], -1)\n",
        "        x = F.relu(self.fc1(x))\n",
        "        x = F.dropout(x, 0.5) # dropout included to combat overfitting\n",
        "        x = F.relu(self.fc2(x))\n",
        "        x = F.dropout(x, 0.5)\n",
        "        x = self.fc3(x)\n",
        "\n",
        "        return x"
      ]
    },
    {
      "cell_type": "code",
      "source": [
        "import torch\n",
        "import torchvision\n",
        "import torchvision.transforms as transforms\n",
        "import numpy as np\n",
        "import time\n",
        "\n",
        "from torch import nn\n",
        "from torch.utils.data import DataLoader, random_split"
      ],
      "metadata": {
        "id": "YJbYVCEqRPvT"
      },
      "execution_count": 3,
      "outputs": []
    },
    {
      "cell_type": "code",
      "source": [
        "device = torch.device('cuda' if torch.cuda.is_available() else 'cpu')\n",
        "device"
      ],
      "metadata": {
        "colab": {
          "base_uri": "https://localhost:8080/"
        },
        "id": "-5c5FBlhRW2i",
        "outputId": "d12e9e77-5f46-40c2-cf22-e8b2bdc3d421"
      },
      "execution_count": 4,
      "outputs": [
        {
          "output_type": "execute_result",
          "data": {
            "text/plain": [
              "device(type='cuda')"
            ]
          },
          "metadata": {},
          "execution_count": 4
        }
      ]
    },
    {
      "cell_type": "code",
      "source": [
        "def train(dataloader, model, loss_fn, optimizer, epoch, num_epochs):\n",
        "    loss_var = 0\n",
        "    for idx, (images, labels) in enumerate(dataloader):\n",
        "        images = images.to(device=device)\n",
        "        labels = labels.to(device=device)\n",
        "\n",
        "        # Forward pass\n",
        "        pred = model(images)\n",
        "        loss = loss_fn(pred, labels)\n",
        "\n",
        "        # Backward propagation\n",
        "        optimizer.zero_grad()\n",
        "        loss.backward()\n",
        "        optimizer.step()\n",
        "\n",
        "        loss_var += loss.item()\n",
        "        if idx%100 == 0:\n",
        "          print(f'Epoch [{epoch+1}/{num_epochs}] || Step [{idx+1}/{len(dataloader)}] || Loss:{loss_var/len(dataloader)}')\n",
        "\n",
        "    print(f'Loss at epoch {epoch+1} || {loss_var/len(dataloader)}')\n",
        "\n",
        "def test(dataloader, model):\n",
        "    with torch.no_grad():\n",
        "        correct = 0\n",
        "        samples = 0\n",
        "        for idx, (images, labels) in enumerate(dataloader):\n",
        "            images = images.to(device=device)\n",
        "            labels = labels.to(device=device)\n",
        "\n",
        "            outputs = model(images)\n",
        "            _, preds = outputs.max(1)\n",
        "            correct += (preds == labels).sum()\n",
        "            samples += preds.size(0)\n",
        "        \n",
        "        print(f\"accuracy {float(correct) / float(samples) * 100:.2f} percentage || Correct {correct} out of {samples} samples\")\n"
      ],
      "metadata": {
        "id": "RIBaP8vgRecY"
      },
      "execution_count": 7,
      "outputs": []
    },
    {
      "cell_type": "code",
      "source": [
        "batch_size = 64\n",
        "num_epochs = 5\n",
        "lr = 1e-4\n",
        "class_size = 14\n",
        "\n",
        "train_transform = transforms.Compose([\n",
        "    transforms.Resize((224,224)),\n",
        "    transforms.RandomHorizontalFlip(p=0.7),\n",
        "    transforms.ToTensor(),\n",
        "    transforms.Normalize(mean=[0.485, 0.456, 0.406], std=[0.229, 0.224, 0.225])\n",
        "])\n",
        "test_transform = transforms.Compose([\n",
        "    transforms.Resize((224,224)),\n",
        "    transforms.ToTensor(),\n",
        "    transforms.Normalize(mean=[0.485, 0.456, 0.406], std=[0.229, 0.224, 0.225])\n",
        "])\n",
        "\n",
        "# prep the train, validation and test data\n",
        "torch.manual_seed(2022)\n",
        "train_data = torchvision.datasets.CIFAR10(\"data/\", train=True, download=True, transform=train_transform)\n",
        "val_size = 10000\n",
        "train_size = len(train_data) - val_size\n",
        "train_data, val_data = random_split(train_data, [train_size, val_size])\n",
        "test_data = torchvision.datasets.CIFAR10('data/', train=False, download=True, transform=test_transform)\n",
        "\n",
        "# train, val and test datasets to the dataloader\n",
        "train_loader = DataLoader(train_data, batch_size=batch_size, shuffle=True)\n",
        "val_loader = DataLoader(val_data, batch_size=batch_size, shuffle=False)\n",
        "\n",
        "model = VGG11_NET()\n",
        "model = model.to(device=device)\n",
        "loss_fn = nn.CrossEntropyLoss()\n",
        "optimizer = torch.optim.Adam(model.parameters(), lr=lr)\n",
        "for epoch in range(num_epochs):\n",
        "    t0 = time.time()\n",
        "    train(train_loader, model, loss_fn, optimizer, epoch, num_epochs)\n",
        "    print('{} seconds'.format(time.time() - t0))\n",
        "    test(val_loader, model)"
      ],
      "metadata": {
        "colab": {
          "base_uri": "https://localhost:8080/"
        },
        "id": "MSa9lRXARidf",
        "outputId": "873693f6-77e4-4da7-f095-6717ec5bccd5"
      },
      "execution_count": 8,
      "outputs": [
        {
          "output_type": "stream",
          "name": "stdout",
          "text": [
            "Files already downloaded and verified\n",
            "Files already downloaded and verified\n",
            "Epoch [1/5] || Step [1/625] || Loss:0.011060655975341796\n",
            "Epoch [1/5] || Step [101/625] || Loss:0.4415367923736572\n",
            "Epoch [1/5] || Step [201/625] || Loss:0.8191426429748535\n",
            "Epoch [1/5] || Step [301/625] || Loss:1.1653001123428344\n",
            "Epoch [1/5] || Step [401/625] || Loss:1.47173774433136\n",
            "Epoch [1/5] || Step [501/625] || Loss:1.7484215721130372\n",
            "Epoch [1/5] || Step [601/625] || Loss:2.010126449584961\n",
            "Loss at epoch 1 || 2.070697117805481\n",
            "380.8392357826233 seconds\n",
            "accuracy 41.90 percentage || Correct 4190 out of 10000 samples\n",
            "Epoch [2/5] || Step [1/625] || Loss:0.0026911062240600587\n",
            "Epoch [2/5] || Step [101/625] || Loss:0.24705821743011475\n",
            "Epoch [2/5] || Step [201/625] || Loss:0.476221409034729\n",
            "Epoch [2/5] || Step [301/625] || Loss:0.6965483976364135\n",
            "Epoch [2/5] || Step [401/625] || Loss:0.9054147047996521\n",
            "Epoch [2/5] || Step [501/625] || Loss:1.1073892016410827\n",
            "Epoch [2/5] || Step [601/625] || Loss:1.2969077447891235\n",
            "Loss at epoch 2 || 1.3435175720214845\n",
            "380.82416582107544 seconds\n",
            "accuracy 56.06 percentage || Correct 5606 out of 10000 samples\n",
            "Epoch [3/5] || Step [1/625] || Loss:0.0017176305770874023\n",
            "Epoch [3/5] || Step [101/625] || Loss:0.17952775707244872\n",
            "Epoch [3/5] || Step [201/625] || Loss:0.3452168667793274\n",
            "Epoch [3/5] || Step [301/625] || Loss:0.5107275395393371\n",
            "Epoch [3/5] || Step [401/625] || Loss:0.6651416623115539\n",
            "Epoch [3/5] || Step [501/625] || Loss:0.8160113963127136\n",
            "Epoch [3/5] || Step [601/625] || Loss:0.9617378323554993\n",
            "Loss at epoch 3 || 0.9959344832420349\n",
            "380.86440086364746 seconds\n",
            "accuracy 67.06 percentage || Correct 6706 out of 10000 samples\n",
            "Epoch [4/5] || Step [1/625] || Loss:0.0014308005332946778\n",
            "Epoch [4/5] || Step [101/625] || Loss:0.13046548929214477\n",
            "Epoch [4/5] || Step [201/625] || Loss:0.262569429397583\n",
            "Epoch [4/5] || Step [301/625] || Loss:0.3918376823425293\n",
            "Epoch [4/5] || Step [401/625] || Loss:0.5172358039855957\n",
            "Epoch [4/5] || Step [501/625] || Loss:0.641382614994049\n",
            "Epoch [4/5] || Step [601/625] || Loss:0.7587597292900086\n",
            "Loss at epoch 4 || 0.7837312516689301\n",
            "380.76029658317566 seconds\n",
            "accuracy 72.47 percentage || Correct 7247 out of 10000 samples\n",
            "Epoch [5/5] || Step [1/625] || Loss:0.0009320911407470703\n",
            "Epoch [5/5] || Step [101/625] || Loss:0.10704849410057068\n",
            "Epoch [5/5] || Step [201/625] || Loss:0.2126369945526123\n",
            "Epoch [5/5] || Step [301/625] || Loss:0.3167473267555237\n",
            "Epoch [5/5] || Step [401/625] || Loss:0.42065627970695496\n",
            "Epoch [5/5] || Step [501/625] || Loss:0.5226775290489197\n",
            "Epoch [5/5] || Step [601/625] || Loss:0.6191946658611298\n",
            "Loss at epoch 5 || 0.6434094048023223\n",
            "380.10167121887207 seconds\n",
            "accuracy 75.72 percentage || Correct 7572 out of 10000 samples\n"
          ]
        }
      ]
    }
  ]
}